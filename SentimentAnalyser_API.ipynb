{
 "cells": [
  {
   "cell_type": "code",
   "execution_count": 1,
   "metadata": {},
   "outputs": [],
   "source": [
    "import nltk\n",
    "from nltk.sentiment.vader import SentimentIntensityAnalyzer\n",
    "from nltk.tokenize.regexp import WhitespaceTokenizer"
   ]
  },
  {
   "cell_type": "code",
   "execution_count": 2,
   "metadata": {},
   "outputs": [],
   "source": [
    "#importing library for interface\n",
    "from tkinter import *\n",
    "from PIL import ImageTk, Image"
   ]
  },
  {
   "cell_type": "code",
   "execution_count": 3,
   "metadata": {},
   "outputs": [],
   "source": [
    "def count_sentence(doc):\n",
    "    count=0\n",
    "    for i in doc:\n",
    "        if i=='.':\n",
    "            count=count+1\n",
    "        if count==0:\n",
    "            count=1\n",
    "    return count"
   ]
  },
  {
   "cell_type": "code",
   "execution_count": null,
   "metadata": {},
   "outputs": [],
   "source": [
    "def QUICK_ANALYSIS():\n",
    "    query = text.get()\n",
    "    sid = SentimentIntensityAnalyzer()\n",
    "    Sa=sid.polarity_scores(query)\n",
    "    tokens = WhitespaceTokenizer().tokenize(query)\n",
    "    Total_sent=count_sentence(query)\n",
    "    if(sid.polarity_scores(query)['compound']>0):\n",
    "        s=\"A Good product!!!\"\n",
    "    elif(sid.polarity_scores(query)['compound']<0):\n",
    "        s=\"A bad product!!!\"\n",
    "    else:\n",
    "        s=\"A neutral product!!!\"\n",
    "    review.insert(END,\"-------------------SENTIMENTAL ANALYSIS FOR REIVIEW-------------------------\")\n",
    "    review.insert(END,\"TOTAL CHARACTERS = \"+str(len(query))+\" (inluding space)\")\n",
    "    review.insert(END,\"TOTAL SENTENCES = \"+str(Total_sent))\n",
    "    review.insert(END,\"TOTAL TOKENS = \"+str(len(tokens)))\n",
    "    review.insert(END,\"POSITIVITY = \"+str(Sa['pos']*100)+\"%\")\n",
    "    review.insert(END,\"NEGATIVITY = \"+str(Sa['neg']*100)+\"%\")\n",
    "    review.insert(END,\"NUETRAL = \"+str(Sa['neu']*100)+\"%\")\n",
    "    review.insert(END,\"COMPOUND = \"+str(Sa['compound']))\n",
    "    review.insert(END,\"OUR SUGGESTION->\"+s)\n",
    "    "
   ]
  },
  {
   "cell_type": "code",
   "execution_count": null,
   "metadata": {},
   "outputs": [],
   "source": [
    "main =Tk() #object of tkinter\n",
    "main.geometry(\"500x650\") #for window size\n",
    "main.title(\"SENTIMENTAL ANALYSER\") #for title on title bar \n",
    "img=ImageTk.PhotoImage(Image.open(\"SA.png\")) #image insertion\n",
    "image_icon=Label(main,image=img) # image configuartion\n",
    "image_icon.pack(pady=5) # for closing the conf. setting we have to pack the object\n",
    "# FRAMEWORK\n",
    "frame=Frame(main) #frame object\n",
    "sc=Scrollbar(frame)\n",
    "review = Listbox(frame,width=80,height=20)\n",
    "sc.pack(side=RIGHT, fill=Y)\n",
    "review.pack(side=RIGHT,fill=BOTH,pady=10)\n",
    "frame.pack()\n",
    "# TEXT ENTRY\n",
    "text=Entry(main,font=(\"Verdana\",20)) #TEXTBOX\n",
    "text.pack(fill=X,pady=10)\n",
    "but=Button(main,text=\"QUICK ANALYSIS\",font=(\"Verdana\",20),command=QUICK_ANALYSIS) #button\n",
    "but.pack()\n"
   ]
  },
  {
   "cell_type": "code",
   "execution_count": null,
   "metadata": {},
   "outputs": [],
   "source": [
    "main.mainloop()"
   ]
  },
  {
   "cell_type": "code",
   "execution_count": null,
   "metadata": {},
   "outputs": [],
   "source": []
  },
  {
   "cell_type": "code",
   "execution_count": null,
   "metadata": {},
   "outputs": [],
   "source": []
  }
 ],
 "metadata": {
  "kernelspec": {
   "display_name": "Python 3",
   "language": "python",
   "name": "python3"
  },
  "language_info": {
   "codemirror_mode": {
    "name": "ipython",
    "version": 3
   },
   "file_extension": ".py",
   "mimetype": "text/x-python",
   "name": "python",
   "nbconvert_exporter": "python",
   "pygments_lexer": "ipython3",
   "version": "3.7.3"
  }
 },
 "nbformat": 4,
 "nbformat_minor": 2
}
print("harshit")
